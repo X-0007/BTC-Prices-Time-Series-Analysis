{
 "cells": [
  {
   "cell_type": "markdown",
   "id": "dc328bbe",
   "metadata": {},
   "source": [
    "# TIME SERIES ANALYSIS OF THE CRYPTO(BTC) PRICES-"
   ]
  },
  {
   "cell_type": "markdown",
   "id": "aa05237e",
   "metadata": {},
   "source": [
    "## Importing necessary Libraries-"
   ]
  },
  {
   "cell_type": "code",
   "execution_count": 1,
   "id": "8c792aac",
   "metadata": {},
   "outputs": [],
   "source": [
    "from os.path import join\n",
    "import numpy as np\n",
    "import pandas as pd\n",
    "import matplotlib.pyplot as plt\n",
    "\n",
    "from statsmodels.tsa.seasonal import seasonal_decompose\n",
    "from pylab import rcParams"
   ]
  },
  {
   "cell_type": "markdown",
   "id": "d28a2465",
   "metadata": {},
   "source": [
    "## Traversing Directory Path for Accessing the CSV Data File-"
   ]
  },
  {
   "cell_type": "code",
   "execution_count": 2,
   "id": "e9d4cc2f",
   "metadata": {},
   "outputs": [],
   "source": [
    "rss_path = r\"E:\\Dutech Internship\\Time Series Analysis\\Proj1\\RSS\"\n",
    "file = r\"bitstampUSD_1-min_data_2012-01-01_to_2018-11-11.csv\"\n",
    "path2file = join(rss_path, file)"
   ]
  },
  {
   "cell_type": "markdown",
   "id": "05b65c9f",
   "metadata": {},
   "source": [
    "## Reading the CSV File and Storing it in a Data Frame-"
   ]
  },
  {
   "cell_type": "code",
   "execution_count": 3,
   "id": "7a1ef96a",
   "metadata": {},
   "outputs": [
    {
     "name": "stderr",
     "output_type": "stream",
     "text": [
      "E:\\ANACONDA\\Anaconda\\lib\\site-packages\\numpy\\lib\\arraysetops.py:583: FutureWarning: elementwise comparison failed; returning scalar instead, but in the future will perform elementwise comparison\n",
      "  mask |= (ar1 == a)\n"
     ]
    },
    {
     "data": {
      "text/html": [
       "<div>\n",
       "<style scoped>\n",
       "    .dataframe tbody tr th:only-of-type {\n",
       "        vertical-align: middle;\n",
       "    }\n",
       "\n",
       "    .dataframe tbody tr th {\n",
       "        vertical-align: top;\n",
       "    }\n",
       "\n",
       "    .dataframe thead th {\n",
       "        text-align: right;\n",
       "    }\n",
       "</style>\n",
       "<table border=\"1\" class=\"dataframe\">\n",
       "  <thead>\n",
       "    <tr style=\"text-align: right;\">\n",
       "      <th></th>\n",
       "      <th>Open</th>\n",
       "      <th>High</th>\n",
       "      <th>Low</th>\n",
       "      <th>Close</th>\n",
       "      <th>Volume_(BTC)</th>\n",
       "      <th>Volume_(Currency)</th>\n",
       "      <th>Weighted_Price</th>\n",
       "    </tr>\n",
       "    <tr>\n",
       "      <th>Timestamp</th>\n",
       "      <th></th>\n",
       "      <th></th>\n",
       "      <th></th>\n",
       "      <th></th>\n",
       "      <th></th>\n",
       "      <th></th>\n",
       "      <th></th>\n",
       "    </tr>\n",
       "  </thead>\n",
       "  <tbody>\n",
       "    <tr>\n",
       "      <th>1325317920</th>\n",
       "      <td>4.39</td>\n",
       "      <td>4.39</td>\n",
       "      <td>4.39</td>\n",
       "      <td>4.39</td>\n",
       "      <td>0.455581</td>\n",
       "      <td>2.000000</td>\n",
       "      <td>4.390000</td>\n",
       "    </tr>\n",
       "    <tr>\n",
       "      <th>1325317980</th>\n",
       "      <td>NaN</td>\n",
       "      <td>NaN</td>\n",
       "      <td>NaN</td>\n",
       "      <td>NaN</td>\n",
       "      <td>NaN</td>\n",
       "      <td>NaN</td>\n",
       "      <td>NaN</td>\n",
       "    </tr>\n",
       "    <tr>\n",
       "      <th>1325318040</th>\n",
       "      <td>NaN</td>\n",
       "      <td>NaN</td>\n",
       "      <td>NaN</td>\n",
       "      <td>NaN</td>\n",
       "      <td>NaN</td>\n",
       "      <td>NaN</td>\n",
       "      <td>NaN</td>\n",
       "    </tr>\n",
       "    <tr>\n",
       "      <th>1325318100</th>\n",
       "      <td>NaN</td>\n",
       "      <td>NaN</td>\n",
       "      <td>NaN</td>\n",
       "      <td>NaN</td>\n",
       "      <td>NaN</td>\n",
       "      <td>NaN</td>\n",
       "      <td>NaN</td>\n",
       "    </tr>\n",
       "    <tr>\n",
       "      <th>1325318160</th>\n",
       "      <td>NaN</td>\n",
       "      <td>NaN</td>\n",
       "      <td>NaN</td>\n",
       "      <td>NaN</td>\n",
       "      <td>NaN</td>\n",
       "      <td>NaN</td>\n",
       "      <td>NaN</td>\n",
       "    </tr>\n",
       "    <tr>\n",
       "      <th>...</th>\n",
       "      <td>...</td>\n",
       "      <td>...</td>\n",
       "      <td>...</td>\n",
       "      <td>...</td>\n",
       "      <td>...</td>\n",
       "      <td>...</td>\n",
       "      <td>...</td>\n",
       "    </tr>\n",
       "    <tr>\n",
       "      <th>1541894100</th>\n",
       "      <td>6348.54</td>\n",
       "      <td>6348.54</td>\n",
       "      <td>6348.54</td>\n",
       "      <td>6348.54</td>\n",
       "      <td>0.007997</td>\n",
       "      <td>50.769274</td>\n",
       "      <td>6348.540000</td>\n",
       "    </tr>\n",
       "    <tr>\n",
       "      <th>1541894160</th>\n",
       "      <td>6348.54</td>\n",
       "      <td>6349.01</td>\n",
       "      <td>6348.54</td>\n",
       "      <td>6349.01</td>\n",
       "      <td>0.011729</td>\n",
       "      <td>74.466671</td>\n",
       "      <td>6348.936090</td>\n",
       "    </tr>\n",
       "    <tr>\n",
       "      <th>1541894220</th>\n",
       "      <td>6349.01</td>\n",
       "      <td>6349.01</td>\n",
       "      <td>6349.01</td>\n",
       "      <td>6349.01</td>\n",
       "      <td>0.068436</td>\n",
       "      <td>434.503642</td>\n",
       "      <td>6349.010000</td>\n",
       "    </tr>\n",
       "    <tr>\n",
       "      <th>1541894280</th>\n",
       "      <td>NaN</td>\n",
       "      <td>NaN</td>\n",
       "      <td>NaN</td>\n",
       "      <td>NaN</td>\n",
       "      <td>NaN</td>\n",
       "      <td>NaN</td>\n",
       "      <td>NaN</td>\n",
       "    </tr>\n",
       "    <tr>\n",
       "      <th>1541894340</th>\n",
       "      <td>6349.17</td>\n",
       "      <td>6349.32</td>\n",
       "      <td>6349.17</td>\n",
       "      <td>6349.32</td>\n",
       "      <td>0.038261</td>\n",
       "      <td>242.927410</td>\n",
       "      <td>6349.214148</td>\n",
       "    </tr>\n",
       "  </tbody>\n",
       "</table>\n",
       "<p>3603136 rows × 7 columns</p>\n",
       "</div>"
      ],
      "text/plain": [
       "               Open     High      Low    Close  Volume_(BTC)  \\\n",
       "Timestamp                                                      \n",
       "1325317920     4.39     4.39     4.39     4.39      0.455581   \n",
       "1325317980      NaN      NaN      NaN      NaN           NaN   \n",
       "1325318040      NaN      NaN      NaN      NaN           NaN   \n",
       "1325318100      NaN      NaN      NaN      NaN           NaN   \n",
       "1325318160      NaN      NaN      NaN      NaN           NaN   \n",
       "...             ...      ...      ...      ...           ...   \n",
       "1541894100  6348.54  6348.54  6348.54  6348.54      0.007997   \n",
       "1541894160  6348.54  6349.01  6348.54  6349.01      0.011729   \n",
       "1541894220  6349.01  6349.01  6349.01  6349.01      0.068436   \n",
       "1541894280      NaN      NaN      NaN      NaN           NaN   \n",
       "1541894340  6349.17  6349.32  6349.17  6349.32      0.038261   \n",
       "\n",
       "            Volume_(Currency)  Weighted_Price  \n",
       "Timestamp                                      \n",
       "1325317920           2.000000        4.390000  \n",
       "1325317980                NaN             NaN  \n",
       "1325318040                NaN             NaN  \n",
       "1325318100                NaN             NaN  \n",
       "1325318160                NaN             NaN  \n",
       "...                       ...             ...  \n",
       "1541894100          50.769274     6348.540000  \n",
       "1541894160          74.466671     6348.936090  \n",
       "1541894220         434.503642     6349.010000  \n",
       "1541894280                NaN             NaN  \n",
       "1541894340         242.927410     6349.214148  \n",
       "\n",
       "[3603136 rows x 7 columns]"
      ]
     },
     "execution_count": 3,
     "metadata": {},
     "output_type": "execute_result"
    }
   ],
   "source": [
    "df = pd.read_csv(path2file, index_col='Timestamp')\n",
    "df"
   ]
  },
  {
   "cell_type": "code",
   "execution_count": 4,
   "id": "934ab7d1",
   "metadata": {},
   "outputs": [
    {
     "data": {
      "text/plain": [
       "Open                 float64\n",
       "High                 float64\n",
       "Low                  float64\n",
       "Close                float64\n",
       "Volume_(BTC)         float64\n",
       "Volume_(Currency)    float64\n",
       "Weighted_Price       float64\n",
       "dtype: object"
      ]
     },
     "execution_count": 4,
     "metadata": {},
     "output_type": "execute_result"
    }
   ],
   "source": [
    "df.dtypes"
   ]
  },
  {
   "cell_type": "markdown",
   "id": "d78d979b",
   "metadata": {},
   "source": [
    "## Plotting of Uncleaned Data for RDA (Raw Data Analysis)-"
   ]
  },
  {
   "cell_type": "code",
   "execution_count": 5,
   "id": "6f559bcb",
   "metadata": {},
   "outputs": [
    {
     "data": {
      "image/png": "[encoded data removed]",
      "text/plain": [
       "<Figure size 432x288 with 1 Axes>"
      ]
     },
     "metadata": {
      "needs_background": "light"
     },
     "output_type": "display_data"
    }
   ],
   "source": [
    "data = df.loc[:, 'Weighted_Price']\n",
    "data.plot()\n",
    "plt.show()"
   ]
  },
  {
   "cell_type": "markdown",
   "id": "2fb02681",
   "metadata": {},
   "source": [
    "## Data Cleaning-"
   ]
  },
  {
   "cell_type": "code",
   "execution_count": 6,
   "id": "8a0d4b5d",
   "metadata": {},
   "outputs": [
    {
     "data": {
      "text/html": [
       "<div>\n",
       "<style scoped>\n",
       "    .dataframe tbody tr th:only-of-type {\n",
       "        vertical-align: middle;\n",
       "    }\n",
       "\n",
       "    .dataframe tbody tr th {\n",
       "        vertical-align: top;\n",
       "    }\n",
       "\n",
       "    .dataframe thead th {\n",
       "        text-align: right;\n",
       "    }\n",
       "</style>\n",
       "<table border=\"1\" class=\"dataframe\">\n",
       "  <thead>\n",
       "    <tr style=\"text-align: right;\">\n",
       "      <th></th>\n",
       "      <th>Open</th>\n",
       "      <th>High</th>\n",
       "      <th>Low</th>\n",
       "      <th>Close</th>\n",
       "      <th>Volume_(BTC)</th>\n",
       "      <th>Volume_(Currency)</th>\n",
       "      <th>Weighted_Price</th>\n",
       "    </tr>\n",
       "    <tr>\n",
       "      <th>Timestamp</th>\n",
       "      <th></th>\n",
       "      <th></th>\n",
       "      <th></th>\n",
       "      <th></th>\n",
       "      <th></th>\n",
       "      <th></th>\n",
       "      <th></th>\n",
       "    </tr>\n",
       "  </thead>\n",
       "  <tbody>\n",
       "    <tr>\n",
       "      <th>1325317920</th>\n",
       "      <td>4.390000</td>\n",
       "      <td>4.390000</td>\n",
       "      <td>4.39000</td>\n",
       "      <td>4.390000</td>\n",
       "      <td>0.455581</td>\n",
       "      <td>2.000000</td>\n",
       "      <td>4.390000</td>\n",
       "    </tr>\n",
       "    <tr>\n",
       "      <th>1325317980</th>\n",
       "      <td>2571.487051</td>\n",
       "      <td>2573.625139</td>\n",
       "      <td>2569.05826</td>\n",
       "      <td>2571.462272</td>\n",
       "      <td>10.924507</td>\n",
       "      <td>23693.494350</td>\n",
       "      <td>2571.319982</td>\n",
       "    </tr>\n",
       "    <tr>\n",
       "      <th>1325318040</th>\n",
       "      <td>2571.487051</td>\n",
       "      <td>2573.625139</td>\n",
       "      <td>2569.05826</td>\n",
       "      <td>2571.462272</td>\n",
       "      <td>10.924507</td>\n",
       "      <td>23693.494350</td>\n",
       "      <td>2571.319982</td>\n",
       "    </tr>\n",
       "    <tr>\n",
       "      <th>1325318100</th>\n",
       "      <td>2571.487051</td>\n",
       "      <td>2573.625139</td>\n",
       "      <td>2569.05826</td>\n",
       "      <td>2571.462272</td>\n",
       "      <td>10.924507</td>\n",
       "      <td>23693.494350</td>\n",
       "      <td>2571.319982</td>\n",
       "    </tr>\n",
       "    <tr>\n",
       "      <th>1325318160</th>\n",
       "      <td>2571.487051</td>\n",
       "      <td>2573.625139</td>\n",
       "      <td>2569.05826</td>\n",
       "      <td>2571.462272</td>\n",
       "      <td>10.924507</td>\n",
       "      <td>23693.494350</td>\n",
       "      <td>2571.319982</td>\n",
       "    </tr>\n",
       "    <tr>\n",
       "      <th>...</th>\n",
       "      <td>...</td>\n",
       "      <td>...</td>\n",
       "      <td>...</td>\n",
       "      <td>...</td>\n",
       "      <td>...</td>\n",
       "      <td>...</td>\n",
       "      <td>...</td>\n",
       "    </tr>\n",
       "    <tr>\n",
       "      <th>1541894100</th>\n",
       "      <td>6348.540000</td>\n",
       "      <td>6348.540000</td>\n",
       "      <td>6348.54000</td>\n",
       "      <td>6348.540000</td>\n",
       "      <td>0.007997</td>\n",
       "      <td>50.769274</td>\n",
       "      <td>6348.540000</td>\n",
       "    </tr>\n",
       "    <tr>\n",
       "      <th>1541894160</th>\n",
       "      <td>6348.540000</td>\n",
       "      <td>6349.010000</td>\n",
       "      <td>6348.54000</td>\n",
       "      <td>6349.010000</td>\n",
       "      <td>0.011729</td>\n",
       "      <td>74.466671</td>\n",
       "      <td>6348.936090</td>\n",
       "    </tr>\n",
       "    <tr>\n",
       "      <th>1541894220</th>\n",
       "      <td>6349.010000</td>\n",
       "      <td>6349.010000</td>\n",
       "      <td>6349.01000</td>\n",
       "      <td>6349.010000</td>\n",
       "      <td>0.068436</td>\n",
       "      <td>434.503642</td>\n",
       "      <td>6349.010000</td>\n",
       "    </tr>\n",
       "    <tr>\n",
       "      <th>1541894280</th>\n",
       "      <td>2571.487051</td>\n",
       "      <td>2573.625139</td>\n",
       "      <td>2569.05826</td>\n",
       "      <td>2571.462272</td>\n",
       "      <td>10.924507</td>\n",
       "      <td>23693.494350</td>\n",
       "      <td>2571.319982</td>\n",
       "    </tr>\n",
       "    <tr>\n",
       "      <th>1541894340</th>\n",
       "      <td>6349.170000</td>\n",
       "      <td>6349.320000</td>\n",
       "      <td>6349.17000</td>\n",
       "      <td>6349.320000</td>\n",
       "      <td>0.038261</td>\n",
       "      <td>242.927410</td>\n",
       "      <td>6349.214148</td>\n",
       "    </tr>\n",
       "  </tbody>\n",
       "</table>\n",
       "<p>3603136 rows × 7 columns</p>\n",
       "</div>"
      ],
      "text/plain": [
       "                   Open         High         Low        Close  Volume_(BTC)  \\\n",
       "Timestamp                                                                     \n",
       "1325317920     4.390000     4.390000     4.39000     4.390000      0.455581   \n",
       "1325317980  2571.487051  2573.625139  2569.05826  2571.462272     10.924507   \n",
       "1325318040  2571.487051  2573.625139  2569.05826  2571.462272     10.924507   \n",
       "1325318100  2571.487051  2573.625139  2569.05826  2571.462272     10.924507   \n",
       "1325318160  2571.487051  2573.625139  2569.05826  2571.462272     10.924507   \n",
       "...                 ...          ...         ...          ...           ...   \n",
       "1541894100  6348.540000  6348.540000  6348.54000  6348.540000      0.007997   \n",
       "1541894160  6348.540000  6349.010000  6348.54000  6349.010000      0.011729   \n",
       "1541894220  6349.010000  6349.010000  6349.01000  6349.010000      0.068436   \n",
       "1541894280  2571.487051  2573.625139  2569.05826  2571.462272     10.924507   \n",
       "1541894340  6349.170000  6349.320000  6349.17000  6349.320000      0.038261   \n",
       "\n",
       "            Volume_(Currency)  Weighted_Price  \n",
       "Timestamp                                      \n",
       "1325317920           2.000000        4.390000  \n",
       "1325317980       23693.494350     2571.319982  \n",
       "1325318040       23693.494350     2571.319982  \n",
       "1325318100       23693.494350     2571.319982  \n",
       "1325318160       23693.494350     2571.319982  \n",
       "...                       ...             ...  \n",
       "1541894100          50.769274     6348.540000  \n",
       "1541894160          74.466671     6348.936090  \n",
       "1541894220         434.503642     6349.010000  \n",
       "1541894280       23693.494350     2571.319982  \n",
       "1541894340         242.927410     6349.214148  \n",
       "\n",
       "[3603136 rows x 7 columns]"
      ]
     },
     "execution_count": 6,
     "metadata": {},
     "output_type": "execute_result"
    }
   ],
   "source": [
    "df.fillna(df.mean(), inplace = True)\n",
    "df"
   ]
  },
  {
   "cell_type": "markdown",
   "id": "2b867f51",
   "metadata": {},
   "source": [
    "## Plotting a Sample Dataset of certain attribute (CRYPTO'S WEIGHTED PRICE) from above Data Frame for better Visualization- "
   ]
  },
  {
   "cell_type": "code",
   "execution_count": 7,
   "id": "d46a546c",
   "metadata": {},
   "outputs": [
    {
     "data": {
      "image/png": "[encoded data removed]",
      "text/plain": [
       "<Figure size 432x288 with 1 Axes>"
      ]
     },
     "metadata": {
      "needs_background": "light"
     },
     "output_type": "display_data"
    }
   ],
   "source": [
    "data = df.loc[:, 'Weighted_Price']\n",
    "data.plot()\n",
    "plt.show()"
   ]
  },
  {
   "cell_type": "markdown",
   "id": "f53ebb5c",
   "metadata": {},
   "source": [
    "## Increasing the Dataset's plots' Dimensions for clarity-"
   ]
  },
  {
   "cell_type": "code",
   "execution_count": 8,
   "id": "3cf1f700",
   "metadata": {},
   "outputs": [
    {
     "data": {
      "image/png": "[encoded data removed]",
      "text/plain": [
       "<Figure size 864x576 with 1 Axes>"
      ]
     },
     "metadata": {
      "needs_background": "light"
     },
     "output_type": "display_data"
    }
   ],
   "source": [
    "rcParams['figure.figsize'] = 12, 8\n",
    "data.plot()\n",
    "plt.show()"
   ]
  },
  {
   "cell_type": "markdown",
   "id": "142e5c35",
   "metadata": {},
   "source": [
    "## Multiplicative Decomposition of the Time Series-"
   ]
  },
  {
   "cell_type": "code",
   "execution_count": 9,
   "id": "3e91136c",
   "metadata": {},
   "outputs": [
    {
     "data": {
      "text/plain": [
       "<statsmodels.tsa.seasonal.DecomposeResult at 0x26937540820>"
      ]
     },
     "execution_count": 9,
     "metadata": {},
     "output_type": "execute_result"
    }
   ],
   "source": [
    "data_mul_decomp = seasonal_decompose(data, model = 'multiplicative', period = 1)\n",
    "data_mul_decomp"
   ]
  },
  {
   "cell_type": "code",
   "execution_count": 10,
   "id": "9be6b89f",
   "metadata": {},
   "outputs": [
    {
     "data": {
      "image/png": "[encoded data removed]",
      "text/plain": [
       "<Figure size 864x576 with 4 Axes>"
      ]
     },
     "metadata": {
      "needs_background": "light"
     },
     "output_type": "display_data"
    }
   ],
   "source": [
    "data_mul_decomp.plot()\n",
    "plt.show()"
   ]
  },
  {
   "cell_type": "markdown",
   "id": "c1472a24",
   "metadata": {},
   "source": [
    "## Logarithmic Transformation for using Additive Model in place of Multipliative Model- "
   ]
  },
  {
   "cell_type": "code",
   "execution_count": 11,
   "id": "5a816dd8",
   "metadata": {},
   "outputs": [
    {
     "data": {
      "text/plain": [
       "Timestamp\n",
       "1325317920       4.390000\n",
       "1325317980    2571.319982\n",
       "1325318040    2571.319982\n",
       "1325318100    2571.319982\n",
       "1325318160    2571.319982\n",
       "                 ...     \n",
       "1541894100    6348.540000\n",
       "1541894160    6348.936090\n",
       "1541894220    6349.010000\n",
       "1541894280    2571.319982\n",
       "1541894340    6349.214148\n",
       "Name: Weighted_Price, Length: 3603136, dtype: float64"
      ]
     },
     "execution_count": 11,
     "metadata": {},
     "output_type": "execute_result"
    }
   ],
   "source": [
    "data_log = data.copy()\n",
    "data_log"
   ]
  },
  {
   "cell_type": "code",
   "execution_count": 12,
   "id": "79be09da",
   "metadata": {},
   "outputs": [
    {
     "data": {
      "text/plain": [
       "Timestamp\n",
       "1325317920    1.479329\n",
       "1325317980    7.852175\n",
       "1325318040    7.852175\n",
       "1325318100    7.852175\n",
       "1325318160    7.852175\n",
       "                ...   \n",
       "1541894100    8.755980\n",
       "1541894160    8.756043\n",
       "1541894220    8.756054\n",
       "1541894280    7.852175\n",
       "1541894340    8.756086\n",
       "Name: Weighted_Price, Length: 3603136, dtype: float64"
      ]
     },
     "execution_count": 12,
     "metadata": {},
     "output_type": "execute_result"
    }
   ],
   "source": [
    "data_log = np.log(data_log)\n",
    "data_log"
   ]
  },
  {
   "cell_type": "markdown",
   "id": "1a4abb52",
   "metadata": {},
   "source": [
    "## Plotting the Logarithmically Transform Data-"
   ]
  },
  {
   "cell_type": "code",
   "execution_count": 13,
   "id": "31d2441d",
   "metadata": {},
   "outputs": [
    {
     "data": {
      "image/png": "[encoded data removed]",
      "text/plain": [
       "<Figure size 864x576 with 1 Axes>"
      ]
     },
     "metadata": {
      "needs_background": "light"
     },
     "output_type": "display_data"
    }
   ],
   "source": [
    "data_log.plot()\n",
    "plt.show()"
   ]
  },
  {
   "cell_type": "markdown",
   "id": "e3ba68b4",
   "metadata": {},
   "source": [
    "## Sub-Plotting for Side-by-Side Comparison of the 2 Plots (Original and Logarithmically Transformed)-"
   ]
  },
  {
   "cell_type": "code",
   "execution_count": 14,
   "id": "b36d9a3a",
   "metadata": {},
   "outputs": [
    {
     "data": {
      "image/png": "[encoded data removed]",
      "text/plain": [
       "<Figure size 864x576 with 2 Axes>"
      ]
     },
     "metadata": {
      "needs_background": "light"
     },
     "output_type": "display_data"
    }
   ],
   "source": [
    "plt.subplot(2, 1, 1)\n",
    "plt.title('Original Time Series-')\n",
    "plt.plot(data)\n",
    "\n",
    "plt.subplot(2, 1, 2)\n",
    "plt.title('Logarithmically Time Series-')\n",
    "plt.plot(data_log)\n",
    "\n",
    "plt.tight_layout()"
   ]
  }
 ],
 "metadata": {
  "kernelspec": {
   "display_name": "Python 3 (ipykernel)",
   "language": "python",
   "name": "python3"
  },
  "language_info": {
   "codemirror_mode": {
    "name": "ipython",
    "version": 3
   },
   "file_extension": ".py",
   "mimetype": "text/x-python",
   "name": "python",
   "nbconvert_exporter": "python",
   "pygments_lexer": "ipython3",
   "version": "3.9.7"
  }
 },
 "nbformat": 4,
 "nbformat_minor": 5
}
